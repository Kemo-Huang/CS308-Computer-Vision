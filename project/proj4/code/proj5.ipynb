{
 "cells": [
  {
   "cell_type": "markdown",
   "metadata": {},
   "source": [
    "# Face Detection with a Sliding Window\n",
    "1. Extract features for positive examples\n",
    "2. Extract features for random negative examples\n",
    "3. Mine hard negatives\n",
    "4. Train a linear classifier\n",
    "5. Detect faces on the test set"
   ]
  },
  {
   "cell_type": "markdown",
   "metadata": {},
   "source": [
    "## Setup"
   ]
  },
  {
   "cell_type": "code",
   "execution_count": null,
   "metadata": {},
   "outputs": [],
   "source": [
    "%matplotlib inline\n",
    "%matplotlib notebook\n",
    "%load_ext autoreload\n",
    "%autoreload 2\n",
    "import cv2\n",
    "import numpy as np\n",
    "import os.path as osp\n",
    "import matplotlib.pyplot as plt\n",
    "from utils import *\n",
    "import student_code as sc"
   ]
  },
  {
   "cell_type": "code",
   "execution_count": null,
   "metadata": {},
   "outputs": [],
   "source": [
    "data_path = osp.join('..','data')\n",
    "# Positive training examples. 36x36 head crops\n",
    "train_path_pos = osp.join(data_path, 'caltech_faces', 'Caltech_CropFaces')\n",
    "# Mine random or hard negatives from here\n",
    "non_face_scn_path = osp.join(data_path, 'train_non_face_scenes')\n",
    "# CMU+MIT test scenes\n",
    "test_scn_path = osp.join(data_path, 'test_scenes', 'test_jpg')\n",
    "# Ground truth face locations in the test set\n",
    "label_filename = osp.join(data_path, 'test_scenes', 'ground_truth_bboxes.txt')\n",
    "\n",
    "# The faces are 36x36 pixels, which works fine as a template size. You could\n",
    "# add other fields to this dict if you want to modify HoG default\n",
    "# parameters such as the number of orientations, but that does not help\n",
    "# performance in our limited test.\n",
    "feature_params = {'template_size': 36, 'hog_cell_size': 6}\n",
    "\n",
    "# Number of negatives to use for training.\n",
    "# Higher will work strictly better, but you should start with 10000 for debugging\n",
    "num_negative_examples = 10000"
   ]
  },
  {
   "cell_type": "markdown",
   "metadata": {},
   "source": [
    "## Section 1: Load positive training crops and random negative examples"
   ]
  },
  {
   "cell_type": "code",
   "execution_count": null,
   "metadata": {},
   "outputs": [],
   "source": [
    "features_pos = sc.get_positive_features(train_path_pos, feature_params)"
   ]
  },
  {
   "cell_type": "code",
   "execution_count": null,
   "metadata": {},
   "outputs": [],
   "source": [
    "features_neg = sc.get_random_negative_features(non_face_scn_path, feature_params,\n",
    "                                               num_negative_examples)"
   ]
  },
  {
   "cell_type": "markdown",
   "metadata": {},
   "source": [
    "## Section 2: Train Classifier\n",
    "Use [scikit-learn LinearSVC](http://scikit-learn.org/stable/modules/generated/sklearn.svm.LinearSVC.html#sklearn.svm.LinearSVC) to on your training features to learn a linear classifier. The regularization constant C is an important parameter, try many values. Small values seem to work better (e.g. 1e-4), but you can try other values."
   ]
  },
  {
   "cell_type": "code",
   "execution_count": null,
   "metadata": {
    "scrolled": true
   },
   "outputs": [],
   "source": [
    "svm = sc.train_classifier(features_pos, features_neg, 5e-2)"
   ]
  },
  {
   "cell_type": "markdown",
   "metadata": {},
   "source": [
    "## Section 3: Examine Learned Classifier\n",
    "You don't need to modify anything in this section. The section first\n",
    "evaluates _training_ error, which isn't ultimately what we care about,\n",
    "but it's a good sanity check. Your training error should be very low."
   ]
  },
  {
   "cell_type": "code",
   "execution_count": null,
   "metadata": {
    "scrolled": true
   },
   "outputs": [],
   "source": [
    "confidences = svm.decision_function(np.vstack((features_pos, features_neg)))\n",
    "label_vector = np.hstack((np.ones(len(features_pos)), -np.ones(len(features_neg))))\n",
    "[tp_rate, fp_rate, tn_rate, fn_rate] = report_accuracy(confidences, label_vector)"
   ]
  },
  {
   "cell_type": "markdown",
   "metadata": {},
   "source": [
    "Visualize how well separated the positive and negative examples are at\n",
    "training time. Sometimes this can idenfity odd biases in your training\n",
    "data, especially if you're trying hard negative mining. This\n",
    "visualization won't be very meaningful with the placeholder starter code."
   ]
  },
  {
   "cell_type": "code",
   "execution_count": null,
   "metadata": {},
   "outputs": [],
   "source": [
    "face_confs = confidences[label_vector > 0]\n",
    "non_face_confs = confidences[label_vector < 0]\n",
    "plt.figure()\n",
    "plt.hist(np.sort(face_confs), 100, facecolor='g', histtype='step', density=1,label='faces')\n",
    "plt.hist(np.sort(non_face_confs), 100, facecolor='r', histtype='step',density=1, label='non faces')\n",
    "#plt.plot([0, len(non_face_confs)], [0, 0], 'b', label='decision boundary')\n",
    "plt.xlabel('predicted score')\n",
    "plt.ylabel('Percentage of images')\n",
    "plt.legend();"
   ]
  },
  {
   "cell_type": "markdown",
   "metadata": {},
   "source": [
    "Visualize the HOG feature template to examine if the detector has learned a meaningful representation for the object (faces in this case).  This would be a good thing to include in your writeup."
   ]
  },
  {
   "cell_type": "code",
   "execution_count": null,
   "metadata": {
    "scrolled": true
   },
   "outputs": [],
   "source": [
    "visualize_hog(svm, feature_params)"
   ]
  },
  {
   "cell_type": "markdown",
   "metadata": {},
   "source": [
    "## Section 4: Mine Hard Negatives\n",
    "You can get very good performance by using random negatives, so hard negative mining may not show great improvement for face detection. Hard negative mining would probably be more important if you had a strict budget of negative training examples or a\n",
    "more expressive, non-linear classifier that can benefit from more training data."
   ]
  },
  {
   "cell_type": "code",
   "execution_count": null,
   "metadata": {
    "scrolled": true
   },
   "outputs": [],
   "source": [
    "hard_negs = sc.mine_hard_negs(non_face_scn_path, svm, feature_params)\n",
    "features_neg_2 = np.vstack((features_neg, hard_negs))"
   ]
  },
  {
   "cell_type": "markdown",
   "metadata": {},
   "source": [
    "Then you can train the classifier again with the new features_neg. You can also check the difference of the performance."
   ]
  },
  {
   "cell_type": "code",
   "execution_count": null,
   "metadata": {},
   "outputs": [],
   "source": [
    "svm_2 = sc.train_classifier(features_pos, features_neg_2, 5e-2)\n",
    "\n",
    "confidences_2 = svm_2.decision_function(np.vstack((features_pos, features_neg)))\n",
    "[tp_rate, fp_rate, tn_rate, fn_rate] = report_accuracy(confidences_2, label_vector)"
   ]
  },
  {
   "cell_type": "markdown",
   "metadata": {},
   "source": [
    "## Section 5: Run Detector on Test Set\n",
    "Make sure the outputs of sc.run_detector() are properly structured! They will be interpreted in Section 6 to evaluate and visualize your\n",
    "results. See sc.run_detector() documentation for more details.\n",
    "\n",
    "sc.run_detector() will have (at least) two parameters which can heavily\n",
    "influence performance - how much to rescale each step of your multiscale\n",
    "detector, and the threshold for a detection. If your recall rate is low\n",
    "and your detector still has high precision at its highest recall point,\n",
    "you can improve your average precision by reducing the threshold for a\n",
    "positive detection."
   ]
  },
  {
   "cell_type": "code",
   "execution_count": null,
   "metadata": {
    "scrolled": true
   },
   "outputs": [],
   "source": [
    "bboxes, confidences, image_ids = sc.run_detector(test_scn_path, svm, feature_params)"
   ]
  },
  {
   "cell_type": "markdown",
   "metadata": {},
   "source": [
    "Let's detect again using the classifier trained using hard negative examples. The results will be saved separately."
   ]
  },
  {
   "cell_type": "code",
   "execution_count": null,
   "metadata": {},
   "outputs": [],
   "source": [
    "bboxes_2, confidences_2, image_ids_2 = sc.run_detector(test_scn_path, svm_2, feature_params)"
   ]
  },
  {
   "cell_type": "markdown",
   "metadata": {},
   "source": [
    "## Section 6: Evaluate and Visualize Detections\n",
    "These functions require ground truth annotations, and thus can only be run on the CMU+MIT face test set. \n",
    "Don't modify anything in evaluate_detections()!\n",
    "\n",
    "Performance to aim for:\n",
    "- random (stater code): 0.001 AP\n",
    "- single scale: ~ 0.3 to 0.4 AP\n",
    "- multiscale: ~ 0.8 to 0.9 AP\n",
    "\n",
    "You need to implement multi-scale detection and achieve at least 0.8 AP to receive the full credit.\n",
    "\n",
    "First we compare the detection performance between different classifiers quantitatively."
   ]
  },
  {
   "cell_type": "code",
   "execution_count": null,
   "metadata": {
    "scrolled": false
   },
   "outputs": [],
   "source": [
    "gt_ids, gt_bboxes, gt_isclaimed, tp, fp, duplicate_detections = evaluate_detections(bboxes, confidences,\n",
    "                                                                                    image_ids, label_filename)"
   ]
  },
  {
   "cell_type": "code",
   "execution_count": null,
   "metadata": {
    "scrolled": true
   },
   "outputs": [],
   "source": [
    "gt_ids, gt_bboxes, gt_isclaimed, tp_2, fp_2, duplicate_detections_2 = evaluate_detections(bboxes_2, confidences_2,\n",
    "                                                                                    image_ids_2, label_filename)"
   ]
  },
  {
   "cell_type": "markdown",
   "metadata": {},
   "source": [
    "And then we show the detection results on the test scenes. By default we only show the results from the second classifier. You can also check the first classifier by uncommenting the first line."
   ]
  },
  {
   "cell_type": "code",
   "execution_count": null,
   "metadata": {
    "scrolled": true
   },
   "outputs": [],
   "source": [
    "# visualize_detections_by_image(bboxes, confidences, image_ids, tp, fp, test_scn_path, label_filename)\n",
    "visualize_detections_by_image(bboxes_2, confidences_2, image_ids_2, tp_2, fp_2, test_scn_path, label_filename)"
   ]
  }
 ],
 "metadata": {
  "kernelspec": {
   "display_name": "Python 3",
   "language": "python",
   "name": "python3"
  },
  "language_info": {
   "codemirror_mode": {
    "name": "ipython",
    "version": 3
   },
   "file_extension": ".py",
   "mimetype": "text/x-python",
   "name": "python",
   "nbconvert_exporter": "python",
   "pygments_lexer": "ipython3",
   "version": "3.6.9"
  },
  "widgets": {
   "state": {},
   "version": "1.1.2"
  }
 },
 "nbformat": 4,
 "nbformat_minor": 2
}
